{
 "cells": [
  {
   "cell_type": "markdown",
   "source": [
    "# Building a Custom Implementation of the LangChain Embeddings Class\n",
    "This notebook will document the steps involved in creating a custom implementation of the langchain embeddings class, which is available on [github](https://github.com/langchain-ai/langchain/blob/master/libs/core/langchain_core/embeddings/embeddings.py)<script src=\"https://emgithub.com/embed-v2.js?target=https%3A%2F%2Fgithub.com%2Flangchain-ai%2Flangchain%2Fblob%2Fmaster%2Flibs%2Fcore%2Flangchain_core%2Fembeddings%2Fembeddings.py&style=default&type=code&showBorder=on&showLineNumbers=on&showFileMeta=on&showFullPath=on&showCopy=on\"></script>"
   ],
   "metadata": {
    "collapsed": false
   },
   "id": "19a0a430382f8101"
  },
  {
   "cell_type": "markdown",
   "source": [
    "## Imports"
   ],
   "metadata": {
    "collapsed": false
   },
   "id": "9ea3f2397a718efc"
  },
  {
   "cell_type": "code",
   "execution_count": 1,
   "outputs": [],
   "source": [
    "import google.generativeai as genai\n",
    "from pymongo import MongoClient\n",
    "from langchain.vectorstores import MongoDBAtlasVectorSearch\n",
    "from pymongo import MongoClient\n",
    "from langchain.vectorstores import MongoDBAtlasVectorSearch\n",
    "from langchain.retrievers import ContextualCompressionRetriever\n",
    "from langchain.retrievers.document_compressors import LLMChainExtractor\n",
    "from langchain_google_genai import ChatGoogleGenerativeAI\n",
    "from langchain_community.document_loaders import BSHTMLLoader\n",
    "from bs4 import BeautifulSoup"
   ],
   "metadata": {
    "collapsed": false,
    "ExecuteTime": {
     "end_time": "2024-08-14T20:15:43.566368600Z",
     "start_time": "2024-08-14T20:15:41.639891900Z"
    }
   },
   "id": "885f3a9cfcfd28b1"
  },
  {
   "cell_type": "code",
   "execution_count": 2,
   "id": "initial_id",
   "metadata": {
    "collapsed": true,
    "ExecuteTime": {
     "end_time": "2024-08-14T20:15:43.596886100Z",
     "start_time": "2024-08-14T20:15:43.568727400Z"
    }
   },
   "outputs": [],
   "source": [
    "with open('google_api_key.txt') as f:\n",
    "    api_key = f.read()"
   ]
  },
  {
   "cell_type": "code",
   "execution_count": 3,
   "outputs": [],
   "source": [
    "class Embeddings():\n",
    "    def __init__(self, model='models/text-embedding-004', api_key=api_key, dim=64):\n",
    "        self.model, self.dim = model, dim\n",
    "        genai.configure(api_key=api_key)\n",
    "    def embed_documents(self, texts: list[str]) -> list[list[float]]:\n",
    "        embeddings = [genai.embed_content(model=self.model, content=text, \n",
    "                                          task_type='RETRIEVAL_DOCUMENT', \n",
    "                                          output_dimensionality=self.dim)['embedding']\n",
    "                     for text in texts]\n",
    "        return embeddings\n",
    "    def embed_query(self, text: str) -> list[float]:\n",
    "        return genai.embed_content(model=self.model, content=text, task_type='RETRIEVAL_DOCUMENT', output_dimensionality=self.dim)['embedding']\n",
    "        "
   ],
   "metadata": {
    "collapsed": false,
    "ExecuteTime": {
     "end_time": "2024-08-14T20:15:43.634248600Z",
     "start_time": "2024-08-14T20:15:43.595884200Z"
    }
   },
   "id": "dc83744cbac4f37f"
  },
  {
   "cell_type": "code",
   "execution_count": 4,
   "outputs": [],
   "source": [
    "\n",
    "with open('mongo_info.txt') as f:\n",
    "    (user, password, url) = f.readlines()\n",
    "string = f'mongodb+srv://{user.strip()}:{password.strip()}@{url.strip()}/?retryWrites=true&w=majority&appName=website-database'\n",
    "\n",
    "client = MongoClient(string)\n",
    "embeddings = Embeddings()\n"
   ],
   "metadata": {
    "collapsed": false,
    "ExecuteTime": {
     "end_time": "2024-08-14T20:15:48.186420700Z",
     "start_time": "2024-08-14T20:15:46.845081400Z"
    }
   },
   "id": "774b0b848ffbb041"
  },
  {
   "cell_type": "code",
   "execution_count": 5,
   "outputs": [
    {
     "data": {
      "text/plain": "64"
     },
     "execution_count": 5,
     "metadata": {},
     "output_type": "execute_result"
    }
   ],
   "source": [
    "len(embeddings.embed_query('will this work?'))"
   ],
   "metadata": {
    "collapsed": false,
    "ExecuteTime": {
     "end_time": "2024-08-14T20:15:52.302060600Z",
     "start_time": "2024-08-14T20:15:51.420903400Z"
    }
   },
   "id": "ef4dbd6022798552"
  },
  {
   "cell_type": "code",
   "execution_count": 6,
   "outputs": [],
   "source": [
    "ed = [\n",
    "    'https://www.eastern.edu/academics/colleges-seminary/college-health-and-sciences/departments/department-mathematical-5',\n",
    "    'https://www.eastern.edu/academics/colleges-seminary/college-health-and-sciences/departments/department-mathematical-6',\n",
    "    'https://www.eastern.edu/academics/colleges-seminary/college-health-and-sciences/departments/ms-data-faqs',\n",
    "    'https://www.eastern.edu/academics/colleges-seminary/college-health-and-sciences/departments/department-mathematical-10',\n",
    "    'https://wpcarey.asu.edu/aznext',\n",
    "    'https://aznext.pipelineaz.com/static_assets/sites/myfutureaz.pipelineaz.com/AZNext_Brochure_ABDA_Certificate_2022.pdf',\n",
    "    'https://degrees.apps.asu.edu/minors/major/ASU00/BABDACERT/applied-business-data-analytics?init=false&nopassive=true',\n",
    "    'https://aznext.pipelineaz.com/static_assets/sites/aznext.pipelineaz.com/AZNext.Brochure.-.ASU.Salesforce.Developer.Academy.participants.pdf',\n",
    "    'https://www.alfred.edu/academics/undergrad-majors-minors/environmental-studies.cfm',\n",
    "    'https://www.alfred.edu/about/',\n",
    "    'https://www.ucvts.org/domain/300'\n",
    "]"
   ],
   "metadata": {
    "collapsed": false,
    "ExecuteTime": {
     "end_time": "2024-08-14T20:16:29.204598900Z",
     "start_time": "2024-08-14T20:16:29.199217300Z"
    }
   },
   "id": "cce798de4236f357"
  },
  {
   "cell_type": "code",
   "execution_count": 7,
   "outputs": [
    {
     "name": "stderr",
     "output_type": "stream",
     "text": [
      "USER_AGENT environment variable not set, consider setting it to identify your requests.\n"
     ]
    }
   ],
   "source": [
    "from langchain.document_loaders import WebBaseLoader\n",
    "pages = [WebBaseLoader(url).load() for url in ed]"
   ],
   "metadata": {
    "collapsed": false,
    "ExecuteTime": {
     "end_time": "2024-08-14T20:17:33.461198600Z",
     "start_time": "2024-08-14T20:16:32.031894800Z"
    }
   },
   "id": "739104b1f9ed5070"
  },
  {
   "cell_type": "code",
   "execution_count": 8,
   "outputs": [],
   "source": [
    "from langchain.text_splitter import RecursiveCharacterTextSplitter\n",
    "text_splitter = RecursiveCharacterTextSplitter(chunk_size=1000, chunk_overlap=0, separators=[\n",
    "                                               \"\\n\\n\", \"\\n\", \"(?<=\\. )\", \" \"], length_function=len)\n",
    "docs = [text_splitter.split_documents(page) for page in pages]"
   ],
   "metadata": {
    "collapsed": false,
    "ExecuteTime": {
     "end_time": "2024-08-14T20:17:33.590675300Z",
     "start_time": "2024-08-14T20:17:33.465411400Z"
    }
   },
   "id": "fc1263a212e0aee8"
  },
  {
   "cell_type": "code",
   "execution_count": null,
   "outputs": [],
   "source": [
    "collection = client['website-database']['education-v2']\n",
    "\n",
    "# Insert the documents in MongoDB Atlas with their embedding\n",
    "docsearches = [MongoDBAtlasVectorSearch.from_documents(\n",
    "    doc, embeddings, collection=collection\n",
    ") for doc in docs]"
   ],
   "metadata": {
    "collapsed": false,
    "is_executing": true,
    "ExecuteTime": {
     "start_time": "2024-08-14T20:18:20.832160100Z"
    }
   },
   "id": "fefa74589b60e6bf"
  },
  {
   "cell_type": "code",
   "execution_count": null,
   "outputs": [],
   "source": [
    "vector_search = MongoDBAtlasVectorSearch.from_connection_string(\n",
    "            mongo_uri := string,\n",
    "            'website-database.education-v2',                                               #Create a vector search object\n",
    "            embeddings,\n",
    "            index_name=\"vector_index\"\n",
    "        )"
   ],
   "metadata": {
    "collapsed": false
   },
   "id": "5c3a45a940b40f0f"
  }
 ],
 "metadata": {
  "kernelspec": {
   "display_name": "Python 3",
   "language": "python",
   "name": "python3"
  },
  "language_info": {
   "codemirror_mode": {
    "name": "ipython",
    "version": 2
   },
   "file_extension": ".py",
   "mimetype": "text/x-python",
   "name": "python",
   "nbconvert_exporter": "python",
   "pygments_lexer": "ipython2",
   "version": "2.7.6"
  }
 },
 "nbformat": 4,
 "nbformat_minor": 5
}
