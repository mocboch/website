{
 "cells": [
  {
   "cell_type": "markdown",
   "id": "79c7fcdb",
   "metadata": {},
   "source": [
    "# Console Session Report (Automatically Generated)\n",
    "**Created by:** Mark\n",
    "**Date:** August 08, 2024\n",
    "**Model Version:** models/gemini-pro\n",
    "\n",
    "**Session outcome:** *Call rag_chain.stream() and print the results*"
   ]
  },
  {
   "cell_type": "markdown",
   "source": [
    " **Importing necessary libraries**\n"
   ],
   "metadata": {
    "collapsed": false
   },
   "id": "20a97be11a21b079"
  },
  {
   "cell_type": "code",
   "execution_count": 10,
   "outputs": [],
   "source": [
    "from langchain_core.output_parsers import StrOutputParser\n",
    "from langchain_core.runnables import RunnablePassthrough\n",
    "from langchain_google_genai import ChatGoogleGenerativeAI\n",
    "from langchain_huggingface import HuggingFaceEmbeddings\n",
    "from langchain_chroma import Chroma\n",
    "import bs4\n",
    "from langchain_community.document_loaders import WebBaseLoader\n",
    "from langchain_text_splitters import RecursiveCharacterTextSplitter\n",
    "import os\n",
    "from langchain import hub\n",
    "\n",
    "os.environ['GOOGLE_API_KEY'] = open('google_api_key.txt').read()"
   ],
   "metadata": {
    "collapsed": false,
    "ExecuteTime": {
     "end_time": "2024-08-09T02:29:13.403497700Z",
     "start_time": "2024-08-09T02:29:13.388442500Z"
    }
   },
   "id": "fac3535787d179b6"
  },
  {
   "cell_type": "code",
   "execution_count": 6,
   "outputs": [],
   "source": [
    "\n",
    "\n",
    "bs4_strainer = bs4.SoupStrainer()\n",
    "loader = WebBaseLoader(\n",
    "    web_paths=(\"https://degrees.apps.asu.edu/minors/major/ASU00/BABDACERT/applied-business-data-analytics?init=false&nopassive=true\",),\n",
    "    bs_kwargs={\"parse_only\": bs4_strainer},\n",
    ")\n",
    "data = loader.load()"
   ],
   "metadata": {
    "collapsed": false,
    "ExecuteTime": {
     "end_time": "2024-08-09T02:27:47.735226600Z",
     "start_time": "2024-08-09T02:27:46.779661700Z"
    }
   },
   "id": "e1a7fe0554793b31"
  },
  {
   "cell_type": "code",
   "execution_count": 7,
   "outputs": [],
   "source": [
    "text_splitter = RecursiveCharacterTextSplitter(\n",
    "    chunk_size=1000, chunk_overlap=200, add_start_index=True\n",
    ")\n",
    "all_splits__ = text_splitter.split_documents(data)"
   ],
   "metadata": {
    "collapsed": false,
    "ExecuteTime": {
     "end_time": "2024-08-09T02:27:48.369571200Z",
     "start_time": "2024-08-09T02:27:48.361424600Z"
    }
   },
   "id": "a40760be6656fb9d"
  },
  {
   "cell_type": "markdown",
   "source": [
    " **Creating a vector store using Chroma**\n"
   ],
   "metadata": {
    "collapsed": false
   },
   "id": "d291397c39466539"
  },
  {
   "cell_type": "code",
   "execution_count": 16,
   "outputs": [],
   "source": [
    "vectorstore = Chroma.from_documents(documents=all_splits__, embedding=HuggingFaceEmbeddings())"
   ],
   "metadata": {
    "collapsed": false,
    "ExecuteTime": {
     "end_time": "2024-08-09T02:31:01.692324100Z",
     "start_time": "2024-08-09T02:30:55.455319800Z"
    }
   },
   "id": "98a0ac34342c06d2"
  },
  {
   "cell_type": "markdown",
   "source": [
    " **Creating a retriever using the vector store**\n"
   ],
   "metadata": {
    "collapsed": false
   },
   "id": "4316bae380bab4af"
  },
  {
   "cell_type": "code",
   "execution_count": 17,
   "outputs": [],
   "source": [
    "retriever = vectorstore.as_retriever(search_type=\"similarity\", search_kwargs={\"k\": 3})"
   ],
   "metadata": {
    "collapsed": false,
    "ExecuteTime": {
     "end_time": "2024-08-09T02:31:01.700232200Z",
     "start_time": "2024-08-09T02:31:01.695896200Z"
    }
   },
   "id": "e5940688c60b9c77"
  },
  {
   "cell_type": "markdown",
   "source": [
    " **Creating a RAG chain**\n"
   ],
   "metadata": {
    "collapsed": false
   },
   "id": "57d370507415a144"
  },
  {
   "cell_type": "code",
   "execution_count": 18,
   "outputs": [],
   "source": [
    "model = ChatGoogleGenerativeAI(model='gemini-1.5-flash')\n",
    "prompt = hub.pull(\"rlm/rag-prompt\")\n",
    "def format_docs(docs):\n",
    "    return \"\\n\\n\".join(doc.page_content for doc in docs)\n",
    "\n",
    "rag_chain = (\n",
    "    {\"context\": retriever | format_docs, \"question\": RunnablePassthrough()}\n",
    "    | prompt\n",
    "    | model\n",
    "    | StrOutputParser()\n",
    ")"
   ],
   "metadata": {
    "collapsed": false,
    "ExecuteTime": {
     "end_time": "2024-08-09T02:31:07.228078800Z",
     "start_time": "2024-08-09T02:31:06.063321700Z"
    }
   },
   "id": "c78a506963e6283c"
  },
  {
   "cell_type": "code",
   "execution_count": 22,
   "outputs": [
    {
     "data": {
      "text/plain": "[Document(metadata={'description': ' ', 'language': 'en', 'source': 'https://degrees.apps.asu.edu/minors/major/ASU00/BABDACERT/applied-business-data-analytics?init=false&nopassive=true', 'start_index': 2847, 'title': 'Applied Business Data Analytics - Certificate | Degree Details | ASU Degree Search'}, page_content=\"Enrollment requirements\\n▲\\n\\n\\n\\n\\n\\n\\n\\nASU degree-seeking studentsThe applied business data analytics certificate is open to all ASU students who are not pursuing the applied business and technology solutions or entrepreneurial leadership degree programs.No more than six credit hours may be shared between the certificate and other degree programs, minors or other certificates.Nondegree-seeking studentsThis certificate is available through the Pathways for the Future program. Applicants without a bachelor's degree are eligible to apply for, and receive, this certificate, through the Pathways for the Futures program. Applicants who already hold a bachelor's degree should apply to ASU and this certificate program as a nondegree-seeking graduate student.\\n\\n\\n\\n\\n\\n\\nAttend online▲\\n\\n\\n\\n\\n\\nASU Online\"),\n Document(metadata={'description': ' ', 'language': 'en', 'source': 'https://degrees.apps.asu.edu/minors/major/ASU00/BABDACERT/applied-business-data-analytics?init=false&nopassive=true', 'start_index': 2847, 'title': 'Applied Business Data Analytics - Certificate | Degree Details | ASU Degree Search'}, page_content=\"Enrollment requirements\\n▲\\n\\n\\n\\n\\n\\n\\n\\nASU degree-seeking studentsThe applied business data analytics certificate is open to all ASU students who are not pursuing the applied business and technology solutions or entrepreneurial leadership degree programs.No more than six credit hours may be shared between the certificate and other degree programs, minors or other certificates.Nondegree-seeking studentsThis certificate is available through the Pathways for the Future program. Applicants without a bachelor's degree are eligible to apply for, and receive, this certificate, through the Pathways for the Futures program. Applicants who already hold a bachelor's degree should apply to ASU and this certificate program as a nondegree-seeking graduate student.\\n\\n\\n\\n\\n\\n\\nAttend online▲\\n\\n\\n\\n\\n\\nASU Online\"),\n Document(metadata={'description': ' ', 'language': 'en', 'source': 'https://degrees.apps.asu.edu/minors/major/ASU00/BABDACERT/applied-business-data-analytics?init=false&nopassive=true', 'start_index': 2847, 'title': 'Applied Business Data Analytics - Certificate | Degree Details | ASU Degree Search'}, page_content=\"Enrollment requirements\\n▲\\n\\n\\n\\n\\n\\n\\n\\nASU degree-seeking studentsThe applied business data analytics certificate is open to all ASU students who are not pursuing the applied business and technology solutions or entrepreneurial leadership degree programs.No more than six credit hours may be shared between the certificate and other degree programs, minors or other certificates.Nondegree-seeking studentsThis certificate is available through the Pathways for the Future program. Applicants without a bachelor's degree are eligible to apply for, and receive, this certificate, through the Pathways for the Futures program. Applicants who already hold a bachelor's degree should apply to ASU and this certificate program as a nondegree-seeking graduate student.\\n\\n\\n\\n\\n\\n\\nAttend online▲\\n\\n\\n\\n\\n\\nASU Online\")]"
     },
     "execution_count": 22,
     "metadata": {},
     "output_type": "execute_result"
    }
   ],
   "source": [
    "retriever.invoke('What do students learn in the Applied Business Data Analytics program at ASU?')"
   ],
   "metadata": {
    "collapsed": false,
    "ExecuteTime": {
     "end_time": "2024-08-09T02:33:42.265636200Z",
     "start_time": "2024-08-09T02:33:42.174080800Z"
    }
   },
   "id": "91341f10110b385"
  },
  {
   "cell_type": "markdown",
   "source": [
    " **Streaming the RAG chain to get the answer**\n"
   ],
   "metadata": {
    "collapsed": false
   },
   "id": "6962161c70f69fdb"
  },
  {
   "cell_type": "code",
   "execution_count": 18,
   "outputs": [],
   "source": [],
   "metadata": {
    "collapsed": false,
    "ExecuteTime": {
     "end_time": "2024-08-09T02:31:08.359365Z",
     "start_time": "2024-08-09T02:31:08.355402300Z"
    }
   },
   "id": "79c6e3f2c216d418"
  },
  {
   "cell_type": "code",
   "execution_count": 26,
   "outputs": [
    {
     "name": "stdout",
     "output_type": "stream",
     "text": [
      "Students in the Applied Business Data Analytics program learn how to manage and analyze large datasets using sophisticated but user-friendly computer-based tools. They gain expertise in predictive analytics, big data techniques, and visualization to make informed decisions about projects, processes, and tasks. This program emphasizes critical thinking skills to develop evidence-based benchmarks for high-quality outcomes. \n"
     ]
    }
   ],
   "source": [
    "for chunk in rag_chain.stream(\"What do students learn in the Applied Business Data Analytics program?\"):\n",
    "    print(chunk, end=\"\", flush=True)"
   ],
   "metadata": {
    "collapsed": false,
    "ExecuteTime": {
     "end_time": "2024-08-09T02:34:49.212999100Z",
     "start_time": "2024-08-09T02:34:48.283338600Z"
    }
   },
   "id": "caaa49a5ae567328"
  },
  {
   "cell_type": "code",
   "execution_count": null,
   "outputs": [],
   "source": [],
   "metadata": {
    "collapsed": false
   },
   "id": "81c1aa9a4aed2076"
  }
 ],
 "metadata": {
  "kernelspec": {
   "name": "python3",
   "language": "python",
   "display_name": "Python 3 (ipykernel)"
  }
 },
 "nbformat": 4,
 "nbformat_minor": 5
}
